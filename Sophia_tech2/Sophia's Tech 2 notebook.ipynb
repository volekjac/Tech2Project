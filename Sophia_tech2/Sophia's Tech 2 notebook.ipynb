{
 "cells": [
  {
   "cell_type": "code",
   "execution_count": 57,
   "metadata": {},
   "outputs": [],
   "source": [
    "import pandas as pd\n",
    "import matplotlib.pyplot as plt"
   ]
  },
  {
   "cell_type": "code",
   "execution_count": 2,
   "metadata": {},
   "outputs": [],
   "source": [
    "grad = pd.read_csv('graduates (1).csv', header = None)\n",
    "grad\n",
    "grad.drop(grad.iloc[:, 18:50], inplace = True, axis = 1)\n",
    "grads = grad.copy()"
   ]
  },
  {
   "cell_type": "code",
   "execution_count": 3,
   "metadata": {},
   "outputs": [],
   "source": [
    "grads.drop(grads.iloc[:,18:26], inplace = True, axis =1)\n",
    "\n",
    "dem_major = grads.copy()\n",
    "dem_major\n",
    "data = dem_major.drop([1,3,4,7,14,15,16,17], axis=1)\n",
    "\n",
    "\n",
    "#How do various demographics/major affect the average/median salary after college?\n"
   ]
  },
  {
   "cell_type": "code",
   "execution_count": 4,
   "metadata": {},
   "outputs": [
    {
     "data": {
      "text/plain": [
       "'148872.0'"
      ]
     },
     "execution_count": 4,
     "metadata": {},
     "output_type": "execute_result"
    }
   ],
   "source": [
    "data.iloc[2] #for a row\n",
    "data.iloc[3,2] # row then column also columns look miss labeled but they are still on the 0 based label \n",
    "\n",
    "\n",
    "#num_val = data[1].replace({'Biological Sciences':1,'Chemical Engineering':2}, inplace = True)"
   ]
  },
  {
   "cell_type": "code",
   "execution_count": 5,
   "metadata": {},
   "outputs": [
    {
     "name": "stdout",
     "output_type": "stream",
     "text": [
      "Biological Sciences mean: [160585.73, 54523.54, 56631.83, 58445.62, 28335.21, 69317.51, 33973.24, 37848.97, 69541.25, 77267.2, 80039.13]\n",
      "Chemistry means: [148872.0, 60697.6, 64147.67, 69462.82, 34287.07, 74872.95, 32291.44, 38026.67, 74352.53, 80006.68, 86034.51]\n",
      "Comp Sci and Math means: [134299.53, 49672.61, 56385.76, 62377.24, 46328.3, 74335.41, 41451.5, 50557.21, 78681.35, 82696.72, 89471.56]\n",
      "Economics mean: [158542.76, 50778.48, 58014.4, 63571.99, 38941.96, 76329.57, 42750.66, 46212.6, 81043.54, 99932.09, 109940.97]\n",
      "Psychology mean: [257851.2, 42852.08, 45771.76, 48769.15, 27500.55, 55759.49, 30293.59, 34204.29, 57583.93, 58984.01, 63618.92]\n",
      "Sociology mean: [0.0, 0.0, 0.0, 0.0, 0.0, 52772.05, 0.0, 0.0, 56771.64, 56116.32, 58871.7]\n",
      "Political and related sciences mean [0.0, 0.0, 0.0, 0.0, 0.0, 0.0, 33684.47, 39843.94, 0.0, 0.0, 0.0]\n",
      "Statistics mean [0.0, 0.0, 0.0, 0.0, 0.0, 76937.98, 0.0, 0.0, 77250.0, 75961.32, 99210.87]\n",
      "Linguistics mean [0.0, 0.0, 0.0, 0.0, 0.0, 55246.15, 0.0, 0.0, 53377.36, 61308.27, 58259.13]\n",
      "Geography mean [0.0, 0.0, 0.0, 0.0, 0.0, 57044.37, 0.0, 0.0, 60547.11, 66215.87, 65739.72]\n"
     ]
    }
   ],
   "source": [
    "majors = ['Biological Sciences','Chemistry','Computer Science and Math','Economics',\n",
    "          'Psychology','Sociology','Political and related sciences',\n",
    "          'Statistics','Linguistics','Geography']\n",
    "\n",
    "bio_mean = []\n",
    "for i in range(0,518):\n",
    "    if data.iloc[i,1] == 'Biological Sciences':\n",
    "        bio_mean.append(float(data.iloc[i,2]))\n",
    "print('Biological Sciences mean:',bio_mean)\n",
    "\n",
    "chem_mean = []\n",
    "for i in range(0,518):\n",
    "    if data.iloc[i,1] == 'Chemistry':\n",
    "        chem_mean.append(float(data.iloc[i,2]))\n",
    "print('Chemistry means:',chem_mean)\n",
    "\n",
    "compsci_mean = []\n",
    "for i in range(0,518):\n",
    "    if data.iloc[i,1] == 'Computer Science and Math':\n",
    "        compsci_mean.append(float(data.iloc[i,2]))  \n",
    "print('Comp Sci and Math means:',compsci_mean)\n",
    "        \n",
    "econ_mean = []\n",
    "for i in range(0,518):\n",
    "    if data.iloc[i,1] == 'Economics':\n",
    "        econ_mean.append(float(data.iloc[i,2]))\n",
    "print('Economics mean:',econ_mean)\n",
    "        \n",
    "psych_mean = []\n",
    "for i in range(0,518):\n",
    "    if data.iloc[i,1] == 'Psychology':\n",
    "        psych_mean.append(float(data.iloc[i,2]))\n",
    "print('Psychology mean:',psych_mean)\n",
    "        \n",
    "soc_mean = []\n",
    "for i in range(0,518):\n",
    "    if data.iloc[i,1] == 'Sociology':\n",
    "        soc_mean.append(float(data.iloc[i,2]))\n",
    "print('Sociology mean:', soc_mean)\n",
    "\n",
    "poli_mean = []\n",
    "for i in range(0,518):\n",
    "    if data.iloc[i,1] == 'Political and related sciences':\n",
    "         poli_mean.append(float(data.iloc[i,2]))\n",
    "print('Political and related sciences mean', poli_mean)\n",
    "\n",
    "stats_mean = []\n",
    "for i in range(0,518):\n",
    "    if data.iloc[i,1] == 'Statistics':\n",
    "         stats_mean.append(float(data.iloc[i,2]))\n",
    "print('Statistics mean', stats_mean)\n",
    "\n",
    "ling_mean = []\n",
    "for i in range(0,518):\n",
    "    if data.iloc[i,1] == 'Linguistics':\n",
    "         ling_mean.append(float(data.iloc[i,2]))\n",
    "print('Linguistics mean', ling_mean)\n",
    "\n",
    "geo_mean = []\n",
    "for i in range(0,518):\n",
    "    if data.iloc[i,1] == 'Geography':\n",
    "         geo_mean.append(float(data.iloc[i,2]))\n",
    "print('Geography mean', geo_mean)"
   ]
  },
  {
   "cell_type": "code",
   "execution_count": null,
   "metadata": {},
   "outputs": [],
   "source": []
  },
  {
   "cell_type": "code",
   "execution_count": 35,
   "metadata": {},
   "outputs": [],
   "source": [
    "for i in range(0,12):\n",
    "    if i == 0.0:\n",
    "        soc_mean.remove(i)\n",
    "        poli_mean.remove(i)\n",
    "        stats_mean.remove(i)\n",
    "        ling_mean.remove(i)\n",
    "        geo_mean.remove(i)\n",
    "    else: \n",
    "        pass\n",
    "\n"
   ]
  },
  {
   "cell_type": "code",
   "execution_count": 37,
   "metadata": {},
   "outputs": [
    {
     "name": "stdout",
     "output_type": "stream",
     "text": [
      "[52772.05, 56771.64, 56116.32, 58871.7] [33684.47, 39843.94] [76937.98, 77250.0, 75961.32, 99210.87] [55246.15, 53377.36, 61308.27, 58259.13] [57044.37, 60547.11, 66215.87, 65739.72]\n"
     ]
    },
    {
     "data": {
      "text/plain": [
       "224531.71000000002"
      ]
     },
     "execution_count": 37,
     "metadata": {},
     "output_type": "execute_result"
    }
   ],
   "source": [
    "print(soc_mean, poli_mean, stats_mean, ling_mean, geo_mean)\n",
    "sum(soc_mean)"
   ]
  },
  {
   "cell_type": "code",
   "execution_count": 74,
   "metadata": {},
   "outputs": [
    {
     "name": "stdout",
     "output_type": "stream",
     "text": [
      "The average salary for Sociology is: 56132.927500000005\n"
     ]
    }
   ],
   "source": [
    "#mean_list=[]\n",
    "#names = []\n",
    "lengths = []\n",
    "def mean_salary(major_list,major_name):\n",
    "    average= (sum(major_list))/(len(major_list))\n",
    "    #mean_list.append(average)      #I put the # infront of this line so that if I run the cells again it \n",
    "                                    # will not change the mean_list again\n",
    "    #names.append(major_name)\n",
    "    lengths.append(len(major_list))\n",
    "    print(\"The average salary for\", major_name,\"is:\", average)\n",
    "\n",
    "mean_salary(soc_mean, 'Sociology')\n"
   ]
  },
  {
   "cell_type": "code",
   "execution_count": 76,
   "metadata": {},
   "outputs": [
    {
     "name": "stdout",
     "output_type": "stream",
     "text": [
      "The average salary for Biological Sciences is: 66046.29363636364\n",
      "The average salary for Chemistry is: 69368.35818181817\n",
      "The average salary for Computer Science and Math is: 69659.74454545454\n",
      "The average salary for Economics is: 75096.27454545455\n",
      "The average salary for Political and related sciences is: 36764.205\n",
      "The average salary for Psychology is: 65744.45181818184\n",
      "The average salary for Statistics is: 82340.0425\n",
      "The average salary for Linguistics is: 57047.7275\n",
      "The average salary for Geography is: 62386.7675\n"
     ]
    }
   ],
   "source": [
    "mean_salary(bio_mean, 'Biological Sciences')\n",
    "mean_salary(chem_mean, 'Chemistry')\n",
    "mean_salary(compsci_mean, 'Computer Science and Math')\n",
    "mean_salary(econ_mean,'Economics')\n",
    "mean_salary(poli_mean,'Political and related sciences' )\n",
    "mean_salary(psych_mean, 'Psychology')\n",
    "mean_salary(stats_mean, 'Statistics')\n",
    "mean_salary(ling_mean, 'Linguistics')\n",
    "mean_salary(geo_mean, 'Geography')\n"
   ]
  },
  {
   "cell_type": "code",
   "execution_count": null,
   "metadata": {},
   "outputs": [],
   "source": []
  },
  {
   "cell_type": "code",
   "execution_count": 71,
   "metadata": {},
   "outputs": [
    {
     "data": {
      "image/png": "[encoded data removed]",
      "text/plain": [
       "<Figure size 1440x576 with 1 Axes>"
      ]
     },
     "metadata": {
      "needs_background": "light"
     },
     "output_type": "display_data"
    }
   ],
   "source": [
    "plt.figure(figsize=(20,8))\n",
    "plt.bar(names,mean_list, color= 'teal' )\n",
    "plt.title('Major vs Average salary from 1993-2015', fontsize=14)\n",
    "plt.xlabel('Major', fontsize=14)\n",
    "plt.ylabel('Salary', fontsize=14)\n",
    "plt.grid(True)\n",
    "plt.show()"
   ]
  },
  {
   "cell_type": "code",
   "execution_count": 78,
   "metadata": {},
   "outputs": [
    {
     "data": {
      "image/png": "[encoded data removed]",
      "text/plain": [
       "<Figure size 1440x576 with 1 Axes>"
      ]
     },
     "metadata": {
      "needs_background": "light"
     },
     "output_type": "display_data"
    }
   ],
   "source": [
    "\n",
    "\n",
    "plt.figure(figsize=(20,8))\n",
    "plt.bar(names,lengths, color= 'teal' )\n",
    "plt.title('Major vs Number of Data Points Evaluated When Finding Mean', fontsize=14)\n",
    "plt.xlabel('Major', fontsize=14)\n",
    "plt.ylabel('Number of Data Points Evaluated When Finding Mean', fontsize=14)\n",
    "plt.grid(True)\n",
    "plt.show()"
   ]
  },
  {
   "cell_type": "code",
   "execution_count": null,
   "metadata": {},
   "outputs": [],
   "source": []
  }
 ],
 "metadata": {
  "kernelspec": {
   "display_name": "Python 3",
   "language": "python",
   "name": "python3"
  },
  "language_info": {
   "codemirror_mode": {
    "name": "ipython",
    "version": 3
   },
   "file_extension": ".py",
   "mimetype": "text/x-python",
   "name": "python",
   "nbconvert_exporter": "python",
   "pygments_lexer": "ipython3",
   "version": "3.7.3"
  }
 },
 "nbformat": 4,
 "nbformat_minor": 4
}
